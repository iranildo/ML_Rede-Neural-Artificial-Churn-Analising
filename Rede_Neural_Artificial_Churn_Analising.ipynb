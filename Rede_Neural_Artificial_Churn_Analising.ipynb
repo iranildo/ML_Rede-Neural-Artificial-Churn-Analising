{
  "nbformat": 4,
  "nbformat_minor": 0,
  "metadata": {
    "colab": {
      "name": "Rede Neural Artificial - Churn Analising.ipynb",
      "provenance": [],
      "collapsed_sections": [],
      "authorship_tag": "ABX9TyN+ZVP/qJIyiKomvdCOmE58",
      "include_colab_link": true
    },
    "kernelspec": {
      "name": "python3",
      "display_name": "Python 3"
    },
    "language_info": {
      "name": "python"
    }
  },
  "cells": [
    {
      "cell_type": "markdown",
      "metadata": {
        "id": "view-in-github",
        "colab_type": "text"
      },
      "source": [
        "<a href=\"https://colab.research.google.com/github/iranildo/ML_Rede-Neural-Artificial-Churn-Analising/blob/main/Rede_Neural_Artificial_Churn_Analising.ipynb\" target=\"_parent\"><img src=\"https://colab.research.google.com/assets/colab-badge.svg\" alt=\"Open In Colab\"/></a>"
      ]
    },
    {
      "cell_type": "markdown",
      "source": [
        "# Rede Neural Artificial - Churn Analising \n",
        "\n",
        "**Verificando se clientes vão ou não deixar um banco**"
      ],
      "metadata": {
        "id": "QGDdgkAWYkyh"
      }
    },
    {
      "cell_type": "markdown",
      "source": [
        "Pre-processamento de dados"
      ],
      "metadata": {
        "id": "ETo400tdcyqW"
      }
    },
    {
      "cell_type": "code",
      "source": [
        "import pandas as pd\n",
        "dataset = pd.read_csv('Churn_Modelling.csv')\n",
        "dataset"
      ],
      "metadata": {
        "id": "qvQKcCodYrlj"
      },
      "execution_count": null,
      "outputs": []
    },
    {
      "cell_type": "markdown",
      "source": [
        "Separando as variaveis dependentes e independentes"
      ],
      "metadata": {
        "id": "-reBdu7_dC4U"
      }
    },
    {
      "cell_type": "code",
      "source": [
        "X = dataset.iloc[:,3:13].values\n",
        "y = dataset.iloc[:,13].values\n"
      ],
      "metadata": {
        "id": "z2D1GvwUdH7C"
      },
      "execution_count": 2,
      "outputs": []
    },
    {
      "cell_type": "markdown",
      "source": [
        "Tranformando dados categoricos em numéricos"
      ],
      "metadata": {
        "id": "Rm3GXZh1gp8j"
      }
    },
    {
      "cell_type": "code",
      "source": [
        "from sklearn.preprocessing import LabelEncoder, OneHotEncoder\n",
        "from sklearn.compose import make_column_transformer\n",
        "\n",
        "labelencoder_X_1 = LabelEncoder()\n",
        "X[:,1] = labelencoder_X_1.fit_transform(X[:,1])\n",
        "labelencoder_X_2 = LabelEncoder()\n",
        "X[:,2] = labelencoder_X_2.fit_transform(X[:,2])\n",
        "\n"
      ],
      "metadata": {
        "id": "fUaYWQpOgvVX"
      },
      "execution_count": 3,
      "outputs": []
    },
    {
      "cell_type": "markdown",
      "source": [
        "Tratando a variável categórica país (dummy variable)"
      ],
      "metadata": {
        "id": "Q7MBtB7MhbaC"
      }
    },
    {
      "cell_type": "code",
      "source": [
        "from numpy.ma.core import remainder\n",
        "onehotencoder = make_column_transformer((OneHotEncoder(categories='auto', sparse=False),[1]), remainder=\"passthrough\" )\n",
        "X = onehotencoder.fit_transform(X)\n",
        "\n",
        "X= X[:,1:]"
      ],
      "metadata": {
        "id": "qYeM9E__hht0"
      },
      "execution_count": 5,
      "outputs": []
    },
    {
      "cell_type": "markdown",
      "source": [
        "Dividindo os dados em treino e teste"
      ],
      "metadata": {
        "id": "K9T1uC-JkIiY"
      }
    },
    {
      "cell_type": "code",
      "source": [
        "from sklearn.model_selection import train_test_split\n",
        "X_train, X_test, y_train, y_test = train_test_split(X,y, test_size = 0.2, random_state =0)\n"
      ],
      "metadata": {
        "id": "MlFr78D7jpVu"
      },
      "execution_count": 7,
      "outputs": []
    },
    {
      "cell_type": "code",
      "source": [
        "from sklearn.preprocessing import StandardScaler\n",
        "sc= StandardScaler()\n",
        "X_train = sc.fit_transform(X_train)\n",
        "X_test = sc.fit_transform(X_test)\n"
      ],
      "metadata": {
        "id": "cPaTKTh0kwRg"
      },
      "execution_count": 8,
      "outputs": []
    },
    {
      "cell_type": "markdown",
      "source": [
        "Criando a rede neural"
      ],
      "metadata": {
        "id": "Cungn_uJlIDV"
      }
    },
    {
      "cell_type": "code",
      "source": [
        "from keras.models import Sequential\n",
        "from keras.layers import Dense\n",
        "\n"
      ],
      "metadata": {
        "id": "09bsL4QZlJ_K"
      },
      "execution_count": 9,
      "outputs": []
    },
    {
      "cell_type": "markdown",
      "source": [
        "iniciando a rede neural criando um obejto sequential"
      ],
      "metadata": {
        "id": "XhB1AwA1ldHo"
      }
    },
    {
      "cell_type": "code",
      "source": [
        "classifier = Sequential()"
      ],
      "metadata": {
        "id": "XV4EfRO7lg1r"
      },
      "execution_count": 10,
      "outputs": []
    },
    {
      "cell_type": "markdown",
      "source": [
        "Criando as camadas - 6 nós na camada opculta e 11 nós na camada de entrada"
      ],
      "metadata": {
        "id": "qTNphsXylk0c"
      }
    },
    {
      "cell_type": "code",
      "source": [
        "classifier.add(Dense(units=6, kernel_initializer='uniform', activation='relu', input_dim=11))"
      ],
      "metadata": {
        "id": "ymJf5JB9lmnu"
      },
      "execution_count": 11,
      "outputs": []
    },
    {
      "cell_type": "markdown",
      "source": [
        "criando mais uma camada\n",
        "\n"
      ],
      "metadata": {
        "id": "cua6MhAVmIdw"
      }
    },
    {
      "cell_type": "code",
      "source": [
        "classifier.add(Dense(units=6, kernel_initializer='uniform', activation='relu'))"
      ],
      "metadata": {
        "id": "5QtLdx2hmNza"
      },
      "execution_count": 12,
      "outputs": []
    },
    {
      "cell_type": "markdown",
      "source": [
        "Criando mais uma camada de saída com função de ativação sigmoid"
      ],
      "metadata": {
        "id": "SZNdeCSlmbNf"
      }
    },
    {
      "cell_type": "code",
      "source": [
        "classifier.add(Dense(units=1, kernel_initializer='uniform', activation='sigmoid'))"
      ],
      "metadata": {
        "id": "-c5uI7QRmeDD"
      },
      "execution_count": 14,
      "outputs": []
    },
    {
      "cell_type": "markdown",
      "source": [
        "Compilando o modelo"
      ],
      "metadata": {
        "id": "yWTh0Gg1m2wF"
      }
    },
    {
      "cell_type": "code",
      "source": [
        "classifier.compile(optimizer='adam',loss='binary_crossentropy', metrics=['accuracy'])"
      ],
      "metadata": {
        "id": "0Eqqfz2em8CA"
      },
      "execution_count": 16,
      "outputs": []
    },
    {
      "cell_type": "markdown",
      "source": [
        "treinando"
      ],
      "metadata": {
        "id": "feX6Cyt3nfEc"
      }
    },
    {
      "cell_type": "code",
      "source": [
        "classifier.fit(X_train, y_train, batch_size=10, epochs=100)"
      ],
      "metadata": {
        "id": "06YQJ3aTnjeU"
      },
      "execution_count": null,
      "outputs": []
    },
    {
      "cell_type": "markdown",
      "source": [
        "previsão dos dados de teste"
      ],
      "metadata": {
        "id": "aodf4upjn-G_"
      }
    },
    {
      "cell_type": "code",
      "source": [
        "y_pred = classifier.predict(X_test)\n",
        "\n",
        "y_pred = (y_pred > 0.5)"
      ],
      "metadata": {
        "id": "IcoAfMG1oGAd"
      },
      "execution_count": null,
      "outputs": []
    },
    {
      "cell_type": "markdown",
      "source": [
        "Criando uma matriz de confusão"
      ],
      "metadata": {
        "id": "wq7rxIy9oUYU"
      }
    },
    {
      "cell_type": "code",
      "source": [
        "from sklearn.metrics import confusion_matrix\n",
        "\n",
        "cm =confusion_matrix(y_test, y_pred)\n"
      ],
      "metadata": {
        "id": "M7h8g2ZVoXdc"
      },
      "execution_count": null,
      "outputs": []
    }
  ]
}